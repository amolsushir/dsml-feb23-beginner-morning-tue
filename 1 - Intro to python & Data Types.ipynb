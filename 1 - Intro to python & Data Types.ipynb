{
 "cells": [
  {
   "cell_type": "code",
   "execution_count": 2,
   "id": "49691443",
   "metadata": {},
   "outputs": [
    {
     "name": "stdout",
     "output_type": "stream",
     "text": [
      "Welcome to the world of PYTHON :)\n"
     ]
    }
   ],
   "source": [
    "print('Welcome to the world of PYTHON :)')"
   ]
  },
  {
   "cell_type": "code",
   "execution_count": 3,
   "id": "12d0543c",
   "metadata": {},
   "outputs": [
    {
     "name": "stdout",
     "output_type": "stream",
     "text": [
      "5 + 6\n"
     ]
    }
   ],
   "source": [
    "print('5 + 6')"
   ]
  },
  {
   "cell_type": "code",
   "execution_count": 4,
   "id": "24380278",
   "metadata": {},
   "outputs": [
    {
     "name": "stdout",
     "output_type": "stream",
     "text": [
      "11\n"
     ]
    }
   ],
   "source": [
    "print(5 + 6)"
   ]
  },
  {
   "cell_type": "code",
   "execution_count": 7,
   "id": "d09487d6",
   "metadata": {},
   "outputs": [],
   "source": [
    "# print(5 ++ 6)"
   ]
  },
  {
   "cell_type": "code",
   "execution_count": 1,
   "id": "86572c58",
   "metadata": {},
   "outputs": [
    {
     "name": "stdout",
     "output_type": "stream",
     "text": [
      "random statement!\n"
     ]
    }
   ],
   "source": [
    "print(\"random statement!\")"
   ]
  },
  {
   "cell_type": "code",
   "execution_count": 2,
   "id": "5fe23c91",
   "metadata": {},
   "outputs": [
    {
     "name": "stdout",
     "output_type": "stream",
     "text": [
      "5\n"
     ]
    }
   ],
   "source": [
    "print(10 - 5)"
   ]
  },
  {
   "cell_type": "code",
   "execution_count": 4,
   "id": "bede49f9",
   "metadata": {},
   "outputs": [
    {
     "ename": "NameError",
     "evalue": "name 'Print' is not defined",
     "output_type": "error",
     "traceback": [
      "\u001b[0;31m---------------------------------------------------------------------------\u001b[0m",
      "\u001b[0;31mNameError\u001b[0m                                 Traceback (most recent call last)",
      "\u001b[0;32m/var/folders/nn/c52y0d3j0gq59dpsswchkt2r0000gn/T/ipykernel_10267/2394344856.py\u001b[0m in \u001b[0;36m<module>\u001b[0;34m\u001b[0m\n\u001b[0;32m----> 1\u001b[0;31m \u001b[0mPrint\u001b[0m\u001b[0;34m(\u001b[0m\u001b[0;34m\"another random statement!\"\u001b[0m\u001b[0;34m)\u001b[0m\u001b[0;34m\u001b[0m\u001b[0;34m\u001b[0m\u001b[0m\n\u001b[0m\u001b[1;32m      2\u001b[0m \u001b[0;34m\u001b[0m\u001b[0m\n\u001b[1;32m      3\u001b[0m \u001b[0;31m# PYTHON IS A CASE SENSITIVE LANGUAGE\u001b[0m\u001b[0;34m\u001b[0m\u001b[0;34m\u001b[0m\u001b[0;34m\u001b[0m\u001b[0m\n",
      "\u001b[0;31mNameError\u001b[0m: name 'Print' is not defined"
     ]
    }
   ],
   "source": [
    "Print(\"another random statement!\")\n",
    "\n",
    "# PYTHON IS A CASE SENSITIVE LANGUAGE"
   ]
  },
  {
   "cell_type": "code",
   "execution_count": 5,
   "id": "faef5301",
   "metadata": {},
   "outputs": [
    {
     "name": "stdout",
     "output_type": "stream",
     "text": [
      "345678764323456789876543234567898765432345678987654323456789\n"
     ]
    }
   ],
   "source": [
    "print(345678764323456789876543234567898765432345678987654323456789)"
   ]
  },
  {
   "cell_type": "code",
   "execution_count": 6,
   "id": "90b74dfc",
   "metadata": {},
   "outputs": [
    {
     "name": "stdout",
     "output_type": "stream",
     "text": [
      "9\n"
     ]
    }
   ],
   "source": [
    "print(9)"
   ]
  },
  {
   "cell_type": "code",
   "execution_count": 7,
   "id": "7e44435e",
   "metadata": {},
   "outputs": [
    {
     "name": "stdout",
     "output_type": "stream",
     "text": [
      "9.0\n"
     ]
    }
   ],
   "source": [
    "print(9.0)"
   ]
  },
  {
   "cell_type": "code",
   "execution_count": 8,
   "id": "5f1fc9ed",
   "metadata": {},
   "outputs": [
    {
     "name": "stdout",
     "output_type": "stream",
     "text": [
      "5.0\n"
     ]
    }
   ],
   "source": [
    "print(5.)"
   ]
  },
  {
   "cell_type": "code",
   "execution_count": 10,
   "id": "96cd3fa2",
   "metadata": {},
   "outputs": [
    {
     "name": "stdout",
     "output_type": "stream",
     "text": [
      "0.6\n"
     ]
    }
   ],
   "source": [
    "print(.6)"
   ]
  },
  {
   "cell_type": "code",
   "execution_count": 11,
   "id": "4408707f",
   "metadata": {},
   "outputs": [
    {
     "name": "stdout",
     "output_type": "stream",
     "text": [
      "0.0\n"
     ]
    }
   ],
   "source": [
    "print(0.0)"
   ]
  },
  {
   "cell_type": "code",
   "execution_count": 12,
   "id": "7440d061",
   "metadata": {},
   "outputs": [
    {
     "name": "stdout",
     "output_type": "stream",
     "text": [
      "hello\n"
     ]
    }
   ],
   "source": [
    "print(\"hello\")"
   ]
  },
  {
   "cell_type": "code",
   "execution_count": 13,
   "id": "cd69dd4c",
   "metadata": {},
   "outputs": [
    {
     "name": "stdout",
     "output_type": "stream",
     "text": [
      "hello\n"
     ]
    }
   ],
   "source": [
    "print('hello')"
   ]
  },
  {
   "cell_type": "code",
   "execution_count": 15,
   "id": "2438ead6",
   "metadata": {},
   "outputs": [
    {
     "ename": "SyntaxError",
     "evalue": "EOL while scanning string literal (1645803048.py, line 1)",
     "output_type": "error",
     "traceback": [
      "\u001b[0;36m  File \u001b[0;32m\"/var/folders/nn/c52y0d3j0gq59dpsswchkt2r0000gn/T/ipykernel_10267/1645803048.py\"\u001b[0;36m, line \u001b[0;32m1\u001b[0m\n\u001b[0;31m    print('hello\")\u001b[0m\n\u001b[0m                  ^\u001b[0m\n\u001b[0;31mSyntaxError\u001b[0m\u001b[0;31m:\u001b[0m EOL while scanning string literal\n"
     ]
    }
   ],
   "source": [
    "print('hello\")\n",
    "      \n",
    "# COMBINATION OF SINGLE AND DOUBLE QUOTES IS NOT ALLOWED"
   ]
  },
  {
   "cell_type": "code",
   "execution_count": 16,
   "id": "a578f08b",
   "metadata": {},
   "outputs": [
    {
     "name": "stdout",
     "output_type": "stream",
     "text": [
      "\n"
     ]
    }
   ],
   "source": [
    "print(\"\")"
   ]
  },
  {
   "cell_type": "code",
   "execution_count": 17,
   "id": "8848d75e",
   "metadata": {},
   "outputs": [
    {
     "name": "stdout",
     "output_type": "stream",
     "text": [
      " \n"
     ]
    }
   ],
   "source": [
    "print(\" \")"
   ]
  },
  {
   "cell_type": "code",
   "execution_count": 18,
   "id": "f22d1142",
   "metadata": {},
   "outputs": [
    {
     "name": "stdout",
     "output_type": "stream",
     "text": [
      "True\n"
     ]
    }
   ],
   "source": [
    "print(True)"
   ]
  },
  {
   "cell_type": "code",
   "execution_count": 21,
   "id": "5acf08af",
   "metadata": {},
   "outputs": [
    {
     "name": "stdout",
     "output_type": "stream",
     "text": [
      "False\n"
     ]
    }
   ],
   "source": [
    "print(False)"
   ]
  },
  {
   "cell_type": "code",
   "execution_count": 20,
   "id": "fd1fafc0",
   "metadata": {},
   "outputs": [
    {
     "ename": "NameError",
     "evalue": "name 'true' is not defined",
     "output_type": "error",
     "traceback": [
      "\u001b[0;31m---------------------------------------------------------------------------\u001b[0m",
      "\u001b[0;31mNameError\u001b[0m                                 Traceback (most recent call last)",
      "\u001b[0;32m/var/folders/nn/c52y0d3j0gq59dpsswchkt2r0000gn/T/ipykernel_10267/4153662535.py\u001b[0m in \u001b[0;36m<module>\u001b[0;34m\u001b[0m\n\u001b[0;32m----> 1\u001b[0;31m \u001b[0mprint\u001b[0m\u001b[0;34m(\u001b[0m\u001b[0mtrue\u001b[0m\u001b[0;34m)\u001b[0m\u001b[0;34m\u001b[0m\u001b[0;34m\u001b[0m\u001b[0m\n\u001b[0m",
      "\u001b[0;31mNameError\u001b[0m: name 'true' is not defined"
     ]
    }
   ],
   "source": [
    "print(true)"
   ]
  },
  {
   "cell_type": "code",
   "execution_count": 22,
   "id": "3a696e54",
   "metadata": {},
   "outputs": [
    {
     "name": "stdout",
     "output_type": "stream",
     "text": [
      "None\n"
     ]
    }
   ],
   "source": [
    "print(None)"
   ]
  },
  {
   "cell_type": "code",
   "execution_count": 24,
   "id": "48aeba70",
   "metadata": {},
   "outputs": [
    {
     "name": "stdout",
     "output_type": "stream",
     "text": [
      "(4+6j)\n"
     ]
    }
   ],
   "source": [
    "print(4 + 6j) # complex numbers"
   ]
  },
  {
   "cell_type": "code",
   "execution_count": 25,
   "id": "d72d5ba1",
   "metadata": {},
   "outputs": [
    {
     "name": "stdout",
     "output_type": "stream",
     "text": [
      "<class 'int'>\n"
     ]
    }
   ],
   "source": [
    "print(type(5))"
   ]
  },
  {
   "cell_type": "code",
   "execution_count": 26,
   "id": "8be16fa3",
   "metadata": {},
   "outputs": [
    {
     "name": "stdout",
     "output_type": "stream",
     "text": [
      "<class 'float'>\n"
     ]
    }
   ],
   "source": [
    "print(type(5.0))"
   ]
  },
  {
   "cell_type": "code",
   "execution_count": 27,
   "id": "566bf8b9",
   "metadata": {},
   "outputs": [
    {
     "name": "stdout",
     "output_type": "stream",
     "text": [
      "<class 'int'>\n"
     ]
    }
   ],
   "source": [
    "print(type(234892345678743212345678765432))"
   ]
  },
  {
   "cell_type": "code",
   "execution_count": 28,
   "id": "74140173",
   "metadata": {},
   "outputs": [
    {
     "name": "stdout",
     "output_type": "stream",
     "text": [
      "<class 'str'>\n"
     ]
    }
   ],
   "source": [
    "print(type(\"Who am i?\"))"
   ]
  },
  {
   "cell_type": "code",
   "execution_count": 29,
   "id": "768b2107",
   "metadata": {},
   "outputs": [
    {
     "name": "stdout",
     "output_type": "stream",
     "text": [
      "<class 'bool'>\n"
     ]
    }
   ],
   "source": [
    "print(type(False))"
   ]
  },
  {
   "cell_type": "code",
   "execution_count": 30,
   "id": "f1cb466b",
   "metadata": {},
   "outputs": [
    {
     "ename": "NameError",
     "evalue": "name 'Type' is not defined",
     "output_type": "error",
     "traceback": [
      "\u001b[0;31m---------------------------------------------------------------------------\u001b[0m",
      "\u001b[0;31mNameError\u001b[0m                                 Traceback (most recent call last)",
      "\u001b[0;32m/var/folders/nn/c52y0d3j0gq59dpsswchkt2r0000gn/T/ipykernel_10267/3462946075.py\u001b[0m in \u001b[0;36m<module>\u001b[0;34m\u001b[0m\n\u001b[0;32m----> 1\u001b[0;31m \u001b[0mprint\u001b[0m\u001b[0;34m(\u001b[0m\u001b[0mType\u001b[0m\u001b[0;34m(\u001b[0m\u001b[0;32mTrue\u001b[0m\u001b[0;34m)\u001b[0m\u001b[0;34m)\u001b[0m\u001b[0;34m\u001b[0m\u001b[0;34m\u001b[0m\u001b[0m\n\u001b[0m",
      "\u001b[0;31mNameError\u001b[0m: name 'Type' is not defined"
     ]
    }
   ],
   "source": [
    "print(Type(True))"
   ]
  },
  {
   "cell_type": "code",
   "execution_count": 31,
   "id": "848ba847",
   "metadata": {},
   "outputs": [
    {
     "name": "stdout",
     "output_type": "stream",
     "text": [
      "<class 'NoneType'>\n"
     ]
    }
   ],
   "source": [
    "print(type(None))"
   ]
  },
  {
   "cell_type": "code",
   "execution_count": 32,
   "id": "9c7684ab",
   "metadata": {},
   "outputs": [
    {
     "name": "stdout",
     "output_type": "stream",
     "text": [
      "<class 'complex'>\n"
     ]
    }
   ],
   "source": [
    "print(type(4+6j))"
   ]
  },
  {
   "cell_type": "code",
   "execution_count": 33,
   "id": "3ab59bd1",
   "metadata": {},
   "outputs": [
    {
     "name": "stdout",
     "output_type": "stream",
     "text": [
      "5\n"
     ]
    }
   ],
   "source": [
    "print(5)"
   ]
  },
  {
   "cell_type": "code",
   "execution_count": 34,
   "id": "59002b33",
   "metadata": {},
   "outputs": [],
   "source": [
    "x = 5 # DEFINE A VARIABLE"
   ]
  },
  {
   "cell_type": "code",
   "execution_count": 35,
   "id": "e169c098",
   "metadata": {},
   "outputs": [
    {
     "name": "stdout",
     "output_type": "stream",
     "text": [
      "5\n"
     ]
    }
   ],
   "source": [
    "print(x)"
   ]
  },
  {
   "cell_type": "code",
   "execution_count": 36,
   "id": "c9c05f2b",
   "metadata": {},
   "outputs": [
    {
     "name": "stdout",
     "output_type": "stream",
     "text": [
      "<class 'int'>\n"
     ]
    }
   ],
   "source": [
    "print(type(x))"
   ]
  },
  {
   "cell_type": "code",
   "execution_count": 37,
   "id": "31266bfa",
   "metadata": {},
   "outputs": [],
   "source": [
    "y = \"56745678asjdfsdjhhdgjahg#$^*&$^&\""
   ]
  },
  {
   "cell_type": "code",
   "execution_count": 38,
   "id": "951cdf36",
   "metadata": {},
   "outputs": [
    {
     "data": {
      "text/plain": [
       "'56745678asjdfsdjhhdgjahg#$^*&$^&'"
      ]
     },
     "execution_count": 38,
     "metadata": {},
     "output_type": "execute_result"
    }
   ],
   "source": [
    "y"
   ]
  },
  {
   "cell_type": "code",
   "execution_count": 39,
   "id": "ab0a1004",
   "metadata": {},
   "outputs": [
    {
     "name": "stdout",
     "output_type": "stream",
     "text": [
      "<class 'str'>\n"
     ]
    }
   ],
   "source": [
    "print(type(y))"
   ]
  },
  {
   "cell_type": "code",
   "execution_count": 40,
   "id": "729a897b",
   "metadata": {},
   "outputs": [],
   "source": [
    "name = \"Bipin\""
   ]
  },
  {
   "cell_type": "code",
   "execution_count": 41,
   "id": "16d953a4",
   "metadata": {},
   "outputs": [
    {
     "ename": "NameError",
     "evalue": "name 'Name' is not defined",
     "output_type": "error",
     "traceback": [
      "\u001b[0;31m---------------------------------------------------------------------------\u001b[0m",
      "\u001b[0;31mNameError\u001b[0m                                 Traceback (most recent call last)",
      "\u001b[0;32m/var/folders/nn/c52y0d3j0gq59dpsswchkt2r0000gn/T/ipykernel_10267/2644917711.py\u001b[0m in \u001b[0;36m<module>\u001b[0;34m\u001b[0m\n\u001b[0;32m----> 1\u001b[0;31m \u001b[0mprint\u001b[0m\u001b[0;34m(\u001b[0m\u001b[0mName\u001b[0m\u001b[0;34m)\u001b[0m\u001b[0;34m\u001b[0m\u001b[0;34m\u001b[0m\u001b[0m\n\u001b[0m",
      "\u001b[0;31mNameError\u001b[0m: name 'Name' is not defined"
     ]
    }
   ],
   "source": [
    "print(Name)"
   ]
  },
  {
   "cell_type": "code",
   "execution_count": 42,
   "id": "61a4de74",
   "metadata": {},
   "outputs": [],
   "source": [
    "x = 5"
   ]
  },
  {
   "cell_type": "code",
   "execution_count": 43,
   "id": "aeb64fc6",
   "metadata": {},
   "outputs": [],
   "source": [
    "x = 3"
   ]
  },
  {
   "cell_type": "code",
   "execution_count": 44,
   "id": "c9e1589f",
   "metadata": {},
   "outputs": [
    {
     "name": "stdout",
     "output_type": "stream",
     "text": [
      "3\n"
     ]
    }
   ],
   "source": [
    "print(x)"
   ]
  },
  {
   "cell_type": "code",
   "execution_count": 45,
   "id": "dca34032",
   "metadata": {},
   "outputs": [],
   "source": [
    "x = \"hello\""
   ]
  },
  {
   "cell_type": "code",
   "execution_count": 46,
   "id": "b8471470",
   "metadata": {},
   "outputs": [
    {
     "name": "stdout",
     "output_type": "stream",
     "text": [
      "hello\n"
     ]
    }
   ],
   "source": [
    "print(x)"
   ]
  },
  {
   "cell_type": "code",
   "execution_count": 48,
   "id": "90757c14",
   "metadata": {},
   "outputs": [
    {
     "name": "stdout",
     "output_type": "stream",
     "text": [
      "56 16 hello random\n"
     ]
    }
   ],
   "source": [
    "print(56,16,x,\"random\")\n",
    "\n",
    "# PRINTS ALL VALUES WITH A SPACE IN BETWEEN"
   ]
  },
  {
   "cell_type": "code",
   "execution_count": 49,
   "id": "bf4327c6",
   "metadata": {},
   "outputs": [
    {
     "name": "stdout",
     "output_type": "stream",
     "text": [
      "56 + 16 + hello + random\n"
     ]
    }
   ],
   "source": [
    "# METHOD 1\n",
    "print(56,\"+\",16,\"+\",x,\"+\",\"random\")"
   ]
  },
  {
   "cell_type": "code",
   "execution_count": 51,
   "id": "6f2f18d7",
   "metadata": {},
   "outputs": [
    {
     "name": "stdout",
     "output_type": "stream",
     "text": [
      "56+16+hello+random\n"
     ]
    }
   ],
   "source": [
    "# REAL METHOD\n",
    "print(56,16,x,\"random\",sep=\"+\")"
   ]
  },
  {
   "cell_type": "code",
   "execution_count": 56,
   "id": "93c5e395",
   "metadata": {},
   "outputs": [
    {
     "name": "stdout",
     "output_type": "stream",
     "text": [
      "helloWHAT IS THIS?random-very random\n"
     ]
    }
   ],
   "source": [
    "print(\"hello\", end=\"WHAT IS THIS?\")\n",
    "print(\"random\", end = \"-\")\n",
    "print(\"very random\")"
   ]
  },
  {
   "cell_type": "code",
   "execution_count": 57,
   "id": "498370a9",
   "metadata": {},
   "outputs": [
    {
     "name": "stdout",
     "output_type": "stream",
     "text": [
      "a+b+cTHIS IS THE END!d e\n"
     ]
    }
   ],
   "source": [
    "print(\"a\", \"b\", \"c\", sep = \"+\", end = \"THIS IS THE END!\")\n",
    "print(\"d\", \"e\")"
   ]
  },
  {
   "cell_type": "code",
   "execution_count": 58,
   "id": "994b94a9",
   "metadata": {},
   "outputs": [
    {
     "name": "stdout",
     "output_type": "stream",
     "text": [
      "abc\n"
     ]
    }
   ],
   "source": [
    "print(\"a\", \"b\", \"c\", sep = \"\")"
   ]
  },
  {
   "cell_type": "code",
   "execution_count": 59,
   "id": "d7c873db",
   "metadata": {},
   "outputs": [
    {
     "name": "stdout",
     "output_type": "stream",
     "text": [
      "d e\n"
     ]
    }
   ],
   "source": [
    "print(\"d\", \"e\")"
   ]
  },
  {
   "cell_type": "code",
   "execution_count": 60,
   "id": "b3869b01",
   "metadata": {},
   "outputs": [
    {
     "name": "stdout",
     "output_type": "stream",
     "text": [
      "d\n",
      "e\n"
     ]
    }
   ],
   "source": [
    "print(\"d\")\n",
    "print(\"e\")"
   ]
  },
  {
   "cell_type": "code",
   "execution_count": 62,
   "id": "a42ac147",
   "metadata": {},
   "outputs": [],
   "source": [
    "# DEFAULT VALUES\n",
    "# sep = \" \"\n",
    "# end = \"\\n\" -> \\n represents new line in python"
   ]
  },
  {
   "cell_type": "code",
   "execution_count": 63,
   "id": "33e44241",
   "metadata": {},
   "outputs": [],
   "source": [
    "abc = 78"
   ]
  },
  {
   "cell_type": "code",
   "execution_count": 64,
   "id": "2a11e12c",
   "metadata": {},
   "outputs": [],
   "source": [
    "_a = 7"
   ]
  },
  {
   "cell_type": "code",
   "execution_count": 65,
   "id": "6aa4fd46",
   "metadata": {},
   "outputs": [],
   "source": [
    "_123 = 8"
   ]
  },
  {
   "cell_type": "code",
   "execution_count": 66,
   "id": "18e76e0c",
   "metadata": {},
   "outputs": [
    {
     "ename": "SyntaxError",
     "evalue": "invalid syntax (2419892568.py, line 1)",
     "output_type": "error",
     "traceback": [
      "\u001b[0;36m  File \u001b[0;32m\"/var/folders/nn/c52y0d3j0gq59dpsswchkt2r0000gn/T/ipykernel_10267/2419892568.py\"\u001b[0;36m, line \u001b[0;32m1\u001b[0m\n\u001b[0;31m    1abc = 5\u001b[0m\n\u001b[0m     ^\u001b[0m\n\u001b[0;31mSyntaxError\u001b[0m\u001b[0;31m:\u001b[0m invalid syntax\n"
     ]
    }
   ],
   "source": [
    "1abc = 5"
   ]
  },
  {
   "cell_type": "code",
   "execution_count": 67,
   "id": "57b7c0b5",
   "metadata": {},
   "outputs": [],
   "source": [
    "abc_123 = 1"
   ]
  },
  {
   "cell_type": "code",
   "execution_count": 68,
   "id": "f0ed0082",
   "metadata": {},
   "outputs": [
    {
     "ename": "SyntaxError",
     "evalue": "cannot assign to operator (3558542273.py, line 1)",
     "output_type": "error",
     "traceback": [
      "\u001b[0;36m  File \u001b[0;32m\"/var/folders/nn/c52y0d3j0gq59dpsswchkt2r0000gn/T/ipykernel_10267/3558542273.py\"\u001b[0;36m, line \u001b[0;32m1\u001b[0m\n\u001b[0;31m    abc-abc = 4\u001b[0m\n\u001b[0m    ^\u001b[0m\n\u001b[0;31mSyntaxError\u001b[0m\u001b[0;31m:\u001b[0m cannot assign to operator\n"
     ]
    }
   ],
   "source": [
    "abc-abc = 4"
   ]
  },
  {
   "cell_type": "code",
   "execution_count": 69,
   "id": "bb25bb4c",
   "metadata": {},
   "outputs": [],
   "source": [
    "abc1 = 6"
   ]
  },
  {
   "cell_type": "code",
   "execution_count": 70,
   "id": "72b1b3e6",
   "metadata": {},
   "outputs": [],
   "source": [
    "HELLO = \"random\""
   ]
  },
  {
   "cell_type": "code",
   "execution_count": 71,
   "id": "0a5686f4",
   "metadata": {},
   "outputs": [],
   "source": [
    "hello = \"something\""
   ]
  },
  {
   "cell_type": "code",
   "execution_count": 72,
   "id": "8ee5a81d",
   "metadata": {},
   "outputs": [
    {
     "name": "stdout",
     "output_type": "stream",
     "text": [
      "random\n"
     ]
    }
   ],
   "source": [
    "print(HELLO)"
   ]
  },
  {
   "cell_type": "code",
   "execution_count": 73,
   "id": "145def2d",
   "metadata": {},
   "outputs": [
    {
     "name": "stdout",
     "output_type": "stream",
     "text": [
      "something\n"
     ]
    }
   ],
   "source": [
    "print(hello)"
   ]
  },
  {
   "cell_type": "code",
   "execution_count": 74,
   "id": "9413654c",
   "metadata": {},
   "outputs": [],
   "source": [
    "hELlOoOoOoOo = \"hello\""
   ]
  },
  {
   "cell_type": "code",
   "execution_count": 75,
   "id": "22abec61",
   "metadata": {},
   "outputs": [],
   "source": [
    "x = \"TAKE ME!\""
   ]
  },
  {
   "cell_type": "code",
   "execution_count": 76,
   "id": "b8915fb4",
   "metadata": {},
   "outputs": [],
   "source": [
    "y = x"
   ]
  },
  {
   "cell_type": "code",
   "execution_count": 77,
   "id": "27c72387",
   "metadata": {},
   "outputs": [
    {
     "name": "stdout",
     "output_type": "stream",
     "text": [
      "TAKE ME!\n"
     ]
    }
   ],
   "source": [
    "print(x)"
   ]
  },
  {
   "cell_type": "code",
   "execution_count": 78,
   "id": "ddd5db0a",
   "metadata": {},
   "outputs": [
    {
     "name": "stdout",
     "output_type": "stream",
     "text": [
      "TAKE ME!\n"
     ]
    }
   ],
   "source": [
    "print(y)"
   ]
  },
  {
   "cell_type": "code",
   "execution_count": 79,
   "id": "a0294be0",
   "metadata": {},
   "outputs": [],
   "source": [
    "y = \"NOT ANYMORE!\""
   ]
  },
  {
   "cell_type": "code",
   "execution_count": 80,
   "id": "562c740f",
   "metadata": {},
   "outputs": [
    {
     "name": "stdout",
     "output_type": "stream",
     "text": [
      "TAKE ME!\n"
     ]
    }
   ],
   "source": [
    "print(x)"
   ]
  },
  {
   "cell_type": "code",
   "execution_count": 81,
   "id": "714c3ece",
   "metadata": {},
   "outputs": [
    {
     "name": "stdout",
     "output_type": "stream",
     "text": [
      "NOT ANYMORE!\n"
     ]
    }
   ],
   "source": [
    "print(y)"
   ]
  },
  {
   "cell_type": "code",
   "execution_count": 82,
   "id": "d03422c6",
   "metadata": {},
   "outputs": [],
   "source": [
    "x = \"this value!\""
   ]
  },
  {
   "cell_type": "code",
   "execution_count": 83,
   "id": "8c78294b",
   "metadata": {},
   "outputs": [
    {
     "name": "stdout",
     "output_type": "stream",
     "text": [
      "6\n"
     ]
    }
   ],
   "source": [
    "user_input = input()"
   ]
  },
  {
   "cell_type": "code",
   "execution_count": 84,
   "id": "6e139fa9",
   "metadata": {},
   "outputs": [
    {
     "name": "stdout",
     "output_type": "stream",
     "text": [
      "6\n"
     ]
    }
   ],
   "source": [
    "print(user_input)"
   ]
  },
  {
   "cell_type": "code",
   "execution_count": 85,
   "id": "9309c00e",
   "metadata": {},
   "outputs": [
    {
     "name": "stdout",
     "output_type": "stream",
     "text": [
      "<class 'str'>\n"
     ]
    }
   ],
   "source": [
    "print(type(user_input))"
   ]
  },
  {
   "cell_type": "code",
   "execution_count": 86,
   "id": "5aafbd87",
   "metadata": {},
   "outputs": [
    {
     "name": "stdout",
     "output_type": "stream",
     "text": [
      "5.667898678\n"
     ]
    }
   ],
   "source": [
    "user_input = input()"
   ]
  },
  {
   "cell_type": "code",
   "execution_count": 87,
   "id": "f835addc",
   "metadata": {},
   "outputs": [
    {
     "name": "stdout",
     "output_type": "stream",
     "text": [
      "<class 'str'>\n"
     ]
    }
   ],
   "source": [
    "print(type(user_input))"
   ]
  },
  {
   "cell_type": "code",
   "execution_count": 92,
   "id": "e73a097c",
   "metadata": {},
   "outputs": [
    {
     "name": "stdout",
     "output_type": "stream",
     "text": [
      "PLEASE PROVIDE AN INPUT - 8\n"
     ]
    }
   ],
   "source": [
    "random = input(\"PLEASE PROVIDE AN INPUT - \")"
   ]
  },
  {
   "cell_type": "code",
   "execution_count": 93,
   "id": "ecb87c98",
   "metadata": {},
   "outputs": [
    {
     "name": "stdout",
     "output_type": "stream",
     "text": [
      "8\n"
     ]
    }
   ],
   "source": [
    "print(random)"
   ]
  },
  {
   "cell_type": "code",
   "execution_count": 95,
   "id": "86cede7c",
   "metadata": {},
   "outputs": [
    {
     "name": "stdout",
     "output_type": "stream",
     "text": [
      "PLEASE ENTER YOUR NAME - Naveen\n",
      "Hi Naveen!\n"
     ]
    }
   ],
   "source": [
    "# GREETER FUNCTION\n",
    "name = input(\"PLEASE ENTER YOUR NAME - \")\n",
    "print(\"Hi \", name,\"!\", sep = \"\")"
   ]
  },
  {
   "cell_type": "code",
   "execution_count": 99,
   "id": "20d652ba",
   "metadata": {},
   "outputs": [
    {
     "name": "stdout",
     "output_type": "stream",
     "text": [
      "Please enter a valid integer - 8\n"
     ]
    }
   ],
   "source": [
    "num1 = int(input(\"Please enter a valid integer - \"))"
   ]
  },
  {
   "cell_type": "code",
   "execution_count": 100,
   "id": "fc765e1b",
   "metadata": {},
   "outputs": [
    {
     "name": "stdout",
     "output_type": "stream",
     "text": [
      "<class 'int'>\n"
     ]
    }
   ],
   "source": [
    "print(type(num1))"
   ]
  },
  {
   "cell_type": "code",
   "execution_count": 102,
   "id": "05bf5611",
   "metadata": {},
   "outputs": [],
   "source": [
    "# WRITE A PROGRAM TO TAKE TWO NUMBERS AS INPUT FROM THE USER\n",
    "# AND PRINT THEIR SUM"
   ]
  },
  {
   "cell_type": "code",
   "execution_count": 103,
   "id": "1ddeafb2",
   "metadata": {},
   "outputs": [
    {
     "name": "stdout",
     "output_type": "stream",
     "text": [
      "5\n",
      "7\n",
      "12\n"
     ]
    }
   ],
   "source": [
    "num1 = int(input())\n",
    "num2 = int(input())\n",
    "\n",
    "print(num1 + num2)"
   ]
  },
  {
   "cell_type": "code",
   "execution_count": 104,
   "id": "6ba8ce37",
   "metadata": {},
   "outputs": [
    {
     "name": "stdout",
     "output_type": "stream",
     "text": [
      "54\n"
     ]
    }
   ],
   "source": [
    "print(\"5\"+\"4\")"
   ]
  },
  {
   "cell_type": "code",
   "execution_count": null,
   "id": "f416ba6f",
   "metadata": {},
   "outputs": [],
   "source": []
  }
 ],
 "metadata": {
  "kernelspec": {
   "display_name": "Python 3 (ipykernel)",
   "language": "python",
   "name": "python3"
  },
  "language_info": {
   "codemirror_mode": {
    "name": "ipython",
    "version": 3
   },
   "file_extension": ".py",
   "mimetype": "text/x-python",
   "name": "python",
   "nbconvert_exporter": "python",
   "pygments_lexer": "ipython3",
   "version": "3.9.5"
  }
 },
 "nbformat": 4,
 "nbformat_minor": 5
}
